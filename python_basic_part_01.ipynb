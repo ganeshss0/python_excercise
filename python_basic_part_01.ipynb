{
 "cells": [
  {
   "attachments": {},
   "cell_type": "markdown",
   "metadata": {},
   "source": [
    "1. Write a Python program to print the following string in a specific format (see the output).<br />\n",
    "\tSample String : \"Twinkle, twinkle, little star, How I wonder what you are! Up above the world so high, Like a diamond in the sky. Twinkle, twinkle, little star, How I wonder what you are\"<br />\n",
    "\tOutput :\n",
    "\t```\n",
    "\tTwinkle, twinkle, little star,\n",
    "\t\tHow I wonder what you are! \n",
    "\t\t\tUp above the world so high,   \t\t\n",
    "\t\t\tLike a diamond in the sky. \n",
    "\tTwinkle, twinkle, little star, \n",
    "\t\tHow I wonder what you are\n",
    "\t```"
   ]
  },
  {
   "cell_type": "code",
   "execution_count": 10,
   "metadata": {},
   "outputs": [
    {
     "name": "stdout",
     "output_type": "stream",
     "text": [
      " Twinkle, twinkle, little, star,\n",
      "\t How I wonder what you are!\n",
      "\t\t Up above the world so high,\n",
      "\t\t Like a diamond in the sky.\n",
      " Twinkle, twinkle, little, star,\n",
      "\t How I wonder what you are!\n",
      "\t\t Up above the world so high,\n",
      "\t\t Like a diamond in the sky.\n"
     ]
    }
   ],
   "source": [
    "\n",
    "def print_formated_poem(n: int):\n",
    "    poem = [\n",
    "        'Twinkle, twinkle, little, star,',\n",
    "        'How I wonder what you are!',\n",
    "        'Up above the world so high,',\n",
    "        'Like a diamond in the sky.',\n",
    "    ]\n",
    "\n",
    "    def tabs(idx):\n",
    "        return 2 if idx > 1 else idx\n",
    "    \n",
    "    for _ in range(n):\n",
    "        for idx, words in enumerate(poem):\n",
    "            print('\\t'*tabs(idx), words)\n",
    "\n",
    "print_formated_poem(2)"
   ]
  },
  {
   "attachments": {},
   "cell_type": "markdown",
   "metadata": {},
   "source": [
    "2. Write a Python program to find out what version of Python you are using. "
   ]
  },
  {
   "cell_type": "code",
   "execution_count": 18,
   "metadata": {},
   "outputs": [
    {
     "data": {
      "text/plain": [
       "'3.10.4 (main, Apr 25 2023, 19:51:33) [GCC 9.4.0]'"
      ]
     },
     "execution_count": 18,
     "metadata": {},
     "output_type": "execute_result"
    }
   ],
   "source": [
    "import sys\n",
    "\n",
    "print_version = lambda  : sys.version\n",
    "print_version()"
   ]
  },
  {
   "attachments": {},
   "cell_type": "markdown",
   "metadata": {},
   "source": [
    "3. Write a Python program to display the current date and time.<br />\n",
    "    Sample Output :<br />\n",
    "    Current date and time :\n",
    "    2022-07-05 14:34:14"
   ]
  },
  {
   "cell_type": "code",
   "execution_count": 22,
   "metadata": {},
   "outputs": [
    {
     "data": {
      "text/plain": [
       "'Current date and time : 2023-05-27 06:12:03'"
      ]
     },
     "execution_count": 22,
     "metadata": {},
     "output_type": "execute_result"
    }
   ],
   "source": [
    "import datetime as dt\n",
    "\n",
    "def print_datetime():\n",
    "    return f\"Current date and time : {dt.datetime.now().strftime('%Y-%m-%d %H:%M:%S')}\"\n",
    "\n",
    "print_datetime()"
   ]
  },
  {
   "attachments": {},
   "cell_type": "markdown",
   "metadata": {},
   "source": [
    "4. Write a Python program that calculates the area of a circle based on the radius entered by the user.<br />\n",
    "    Sample Output :<br />\n",
    "    r = 1.1<br />\n",
    "    Area = 3.8013271108436504<br />"
   ]
  },
  {
   "cell_type": "code",
   "execution_count": 23,
   "metadata": {},
   "outputs": [
    {
     "data": {
      "text/plain": [
       "{'r': 1.1, 'area': 3.8013271108436504}"
      ]
     },
     "execution_count": 23,
     "metadata": {},
     "output_type": "execute_result"
    }
   ],
   "source": [
    "from math import pi\n",
    "\n",
    "def area_of_circle(radius: float) -> dict:\n",
    "    area = pi * (radius ** 2)\n",
    "\n",
    "    return {\n",
    "        'r' : radius,\n",
    "        'area' : area\n",
    "        }\n",
    "\n",
    "area_of_circle(radius=1.1)"
   ]
  },
  {
   "attachments": {},
   "cell_type": "markdown",
   "metadata": {},
   "source": [
    "5. Write a Python program that accepts the user's first and last name and prints them in reverse order with a space between them. "
   ]
  },
  {
   "cell_type": "code",
   "execution_count": 24,
   "metadata": {},
   "outputs": [
    {
     "data": {
      "text/plain": [
       "'nhoJ eoD'"
      ]
     },
     "execution_count": 24,
     "metadata": {},
     "output_type": "execute_result"
    }
   ],
   "source": [
    "def reverse_first_last_name(first_name: str, last_name: str) -> str:\n",
    "    return first_name[::-1] + ' ' + last_name[::-1]\n",
    "\n",
    "reverse_first_last_name(first_name='John', last_name='Doe')"
   ]
  },
  {
   "attachments": {},
   "cell_type": "markdown",
   "metadata": {},
   "source": [
    "6. Write a Python program that accepts a sequence of comma-separated numbers from the user and generates a list and a tuple of those numbers.\n",
    "    Sample data : 3, 5, 7, 23<br />\n",
    "    Output :<br />\n",
    "    List : ['3', ' 5', ' 7', ' 23']<br />\n",
    "    Tuple : ('3', ' 5', ' 7', ' 23')<br />"
   ]
  },
  {
   "cell_type": "code",
   "execution_count": 25,
   "metadata": {},
   "outputs": [
    {
     "data": {
      "text/plain": [
       "[3, 5, 7, 23]"
      ]
     },
     "execution_count": 25,
     "metadata": {},
     "output_type": "execute_result"
    }
   ],
   "source": [
    "def parse_csv(string: str):\n",
    "    string = string.split(', ')\n",
    "    return list(map(int, string))\n",
    "\n",
    "parse_csv('3, 5, 7, 23')"
   ]
  },
  {
   "attachments": {},
   "cell_type": "markdown",
   "metadata": {},
   "source": [
    "7. Write a Python program that accepts a filename from the user and prints the extension of the file.<br />\n",
    "    Sample filename : abc.java<br />\n",
    "    Output : java"
   ]
  },
  {
   "cell_type": "code",
   "execution_count": 26,
   "metadata": {},
   "outputs": [
    {
     "data": {
      "text/plain": [
       "'java'"
      ]
     },
     "execution_count": 26,
     "metadata": {},
     "output_type": "execute_result"
    }
   ],
   "source": [
    "def get_extension(file_name: str):\n",
    "    return file_name.split('.')[-1]\n",
    "\n",
    "get_extension('abc.java')"
   ]
  },
  {
   "attachments": {},
   "cell_type": "markdown",
   "metadata": {},
   "source": [
    "8. Write a Python program to display the first and last colors from the following list.<br />\n",
    "    color_list = [\"Red\",\"Green\",\"White\" ,\"Black\"]"
   ]
  },
  {
   "cell_type": "code",
   "execution_count": 29,
   "metadata": {},
   "outputs": [
    {
     "data": {
      "text/plain": [
       "('Red', 'Black')"
      ]
     },
     "execution_count": 29,
     "metadata": {},
     "output_type": "execute_result"
    }
   ],
   "source": [
    "get_first_last = lambda c : (c[0], c[-1])\n",
    "\n",
    "get_first_last(['Red', 'Green', 'White', 'Black'])"
   ]
  },
  {
   "attachments": {},
   "cell_type": "markdown",
   "metadata": {},
   "source": [
    "9. Write a Python program to display the examination schedule. (extract the date from exam_st_date).<br />\n",
    "    exam_st_date = (11, 12, 2014)<br />\n",
    "    Sample Output : The examination will start from : 11 / 12 / 2014<br />"
   ]
  },
  {
   "cell_type": "code",
   "execution_count": 32,
   "metadata": {},
   "outputs": [
    {
     "data": {
      "text/plain": [
       "'The examination will start from : 11/12/2014'"
      ]
     },
     "execution_count": 32,
     "metadata": {},
     "output_type": "execute_result"
    }
   ],
   "source": [
    "def extract_date(date: tuple):\n",
    "    return f\"The examination will start from : {date[0]}/{date[1]}/{date[2]}\"\n",
    "\n",
    "extract_date((11, 12, 2014))"
   ]
  },
  {
   "cell_type": "code",
   "execution_count": 35,
   "metadata": {},
   "outputs": [
    {
     "data": {
      "text/plain": [
       "615"
      ]
     },
     "execution_count": 35,
     "metadata": {},
     "output_type": "execute_result"
    }
   ],
   "source": [
    "compute_n = lambda n: n + (n*10 + n) + (n*100 + n * 10 + n)\n",
    "\n",
    "compute_n(5)"
   ]
  },
  {
   "cell_type": "code",
   "execution_count": 53,
   "metadata": {},
   "outputs": [
    {
     "name": "stdout",
     "output_type": "stream",
     "text": [
      "abs\n",
      "Return the absolute value of the argument.\n"
     ]
    }
   ],
   "source": [
    "def description(func):\n",
    "    print(func.__name__)\n",
    "    print(func.__doc__)\n",
    "\n",
    "description(abs)"
   ]
  },
  {
   "cell_type": "code",
   "execution_count": null,
   "metadata": {},
   "outputs": [],
   "source": [
    "import calendar as cl\n",
    "def get_calendar(month: int, year: int):\n",
    "    return cl.calendar(2022, m=3)\n"
   ]
  }
 ],
 "metadata": {
  "kernelspec": {
   "display_name": "Python 3",
   "language": "python",
   "name": "python3"
  },
  "language_info": {
   "codemirror_mode": {
    "name": "ipython",
    "version": 3
   },
   "file_extension": ".py",
   "mimetype": "text/x-python",
   "name": "python",
   "nbconvert_exporter": "python",
   "pygments_lexer": "ipython3",
   "version": "3.10.4"
  },
  "orig_nbformat": 4
 },
 "nbformat": 4,
 "nbformat_minor": 2
}
